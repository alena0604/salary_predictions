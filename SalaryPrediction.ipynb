{
 "cells": [
  {
   "cell_type": "markdown",
   "metadata": {},
   "source": [
    "# Salary Predictions Based on Job Descriptions"
   ]
  },
  {
   "cell_type": "code",
   "execution_count": 1,
   "metadata": {},
   "outputs": [],
   "source": [
    "import pandas as pd\n",
    "import numpy as np\n",
    "import random\n",
    "import sys\n",
    "sys.path.insert(0, './modules')\n",
    "from data import DataProcessing\n",
    "from feature_engineering import FeatureEngineering\n",
    "import warnings\n",
    "warnings.filterwarnings('ignore')"
   ]
  },
  {
   "cell_type": "code",
   "execution_count": 2,
   "metadata": {},
   "outputs": [],
   "source": [
    "from sklearn.ensemble import RandomForestRegressor\n",
    "from sklearn.model_selection import cross_val_score, KFold\n",
    "from sklearn.metrics import mean_squared_error\n",
    "import lightgbm as lgb\n",
    "from xgboost import XGBRegressor\n",
    "import gc"
   ]
  },
  {
   "cell_type": "markdown",
   "metadata": {},
   "source": [
    "## Define parameters "
   ]
  },
  {
   "cell_type": "code",
   "execution_count": 3,
   "metadata": {},
   "outputs": [],
   "source": [
    "train_features_file = 'unzipped_data/data/train_features.csv'\n",
    "target_file = 'unzipped_data/data/train_salaries.csv'\n",
    "test_features_file = 'unzipped_data/data/test_features.csv'\n",
    "cat_cols = ['jobType', 'degree', 'major', 'industry']\n",
    "target = 'salary'\n",
    "id_cols = ['jobId', 'companyId']\n",
    "num_procs = 2\n",
    "verbose_lvl = 5"
   ]
  },
  {
   "cell_type": "markdown",
   "metadata": {},
   "source": [
    "## Create Data object"
   ]
  },
  {
   "cell_type": "code",
   "execution_count": 4,
   "metadata": {},
   "outputs": [],
   "source": [
    "data = DataProcessing(train_features_file, target_file, test_features_file, target, id_cols)"
   ]
  },
  {
   "cell_type": "markdown",
   "metadata": {},
   "source": [
    "## Create Feature object"
   ]
  },
  {
   "cell_type": "code",
   "execution_count": 5,
   "metadata": {},
   "outputs": [],
   "source": [
    "new_features = FeatureEngineering(data)"
   ]
  },
  {
   "cell_type": "markdown",
   "metadata": {},
   "source": [
    "## Feature Ingeneering for train/test set"
   ]
  },
  {
   "cell_type": "code",
   "execution_count": 6,
   "metadata": {},
   "outputs": [
    {
     "data": {
      "text/html": [
       "<div>\n",
       "<style scoped>\n",
       "    .dataframe tbody tr th:only-of-type {\n",
       "        vertical-align: middle;\n",
       "    }\n",
       "\n",
       "    .dataframe tbody tr th {\n",
       "        vertical-align: top;\n",
       "    }\n",
       "\n",
       "    .dataframe thead th {\n",
       "        text-align: right;\n",
       "    }\n",
       "</style>\n",
       "<table border=\"1\" class=\"dataframe\">\n",
       "  <thead>\n",
       "    <tr style=\"text-align: right;\">\n",
       "      <th></th>\n",
       "      <th>jobId</th>\n",
       "      <th>companyId</th>\n",
       "      <th>jobType</th>\n",
       "      <th>degree</th>\n",
       "      <th>major</th>\n",
       "      <th>industry</th>\n",
       "      <th>yearsExperience</th>\n",
       "      <th>milesFromMetropolis</th>\n",
       "      <th>salary</th>\n",
       "      <th>yearsExperience_bins</th>\n",
       "      <th>...</th>\n",
       "      <th>industry_STD</th>\n",
       "      <th>industry_MEAN</th>\n",
       "      <th>industry_MEDIAN</th>\n",
       "      <th>industry_SKEW</th>\n",
       "      <th>yearsExperience_bins_MIN</th>\n",
       "      <th>yearsExperience_bins_MAX</th>\n",
       "      <th>yearsExperience_bins_STD</th>\n",
       "      <th>yearsExperience_bins_MEAN</th>\n",
       "      <th>yearsExperience_bins_MEDIAN</th>\n",
       "      <th>yearsExperience_bins_SKEW</th>\n",
       "    </tr>\n",
       "  </thead>\n",
       "  <tbody>\n",
       "    <tr>\n",
       "      <th>0</th>\n",
       "      <td>JOB1362684407687</td>\n",
       "      <td>COMP37</td>\n",
       "      <td>CFO</td>\n",
       "      <td>MASTERS</td>\n",
       "      <td>MATH</td>\n",
       "      <td>HEALTH</td>\n",
       "      <td>10</td>\n",
       "      <td>83</td>\n",
       "      <td>130</td>\n",
       "      <td>10+</td>\n",
       "      <td>...</td>\n",
       "      <td>36.865179</td>\n",
       "      <td>115.735540</td>\n",
       "      <td>114</td>\n",
       "      <td>0.321032</td>\n",
       "      <td>24</td>\n",
       "      <td>301</td>\n",
       "      <td>38.471103</td>\n",
       "      <td>126.159674</td>\n",
       "      <td>124</td>\n",
       "      <td>0.317313</td>\n",
       "    </tr>\n",
       "    <tr>\n",
       "      <th>1</th>\n",
       "      <td>JOB1362684407688</td>\n",
       "      <td>COMP19</td>\n",
       "      <td>CEO</td>\n",
       "      <td>HIGH_SCHOOL</td>\n",
       "      <td>NONE</td>\n",
       "      <td>WEB</td>\n",
       "      <td>3</td>\n",
       "      <td>73</td>\n",
       "      <td>101</td>\n",
       "      <td>3-5</td>\n",
       "      <td>...</td>\n",
       "      <td>38.165659</td>\n",
       "      <td>121.645362</td>\n",
       "      <td>119</td>\n",
       "      <td>0.347584</td>\n",
       "      <td>21</td>\n",
       "      <td>245</td>\n",
       "      <td>33.226156</td>\n",
       "      <td>99.051617</td>\n",
       "      <td>98</td>\n",
       "      <td>0.254207</td>\n",
       "    </tr>\n",
       "    <tr>\n",
       "      <th>2</th>\n",
       "      <td>JOB1362684407689</td>\n",
       "      <td>COMP52</td>\n",
       "      <td>VICE_PRESIDENT</td>\n",
       "      <td>DOCTORAL</td>\n",
       "      <td>PHYSICS</td>\n",
       "      <td>HEALTH</td>\n",
       "      <td>10</td>\n",
       "      <td>38</td>\n",
       "      <td>137</td>\n",
       "      <td>10+</td>\n",
       "      <td>...</td>\n",
       "      <td>36.865179</td>\n",
       "      <td>115.735540</td>\n",
       "      <td>114</td>\n",
       "      <td>0.321032</td>\n",
       "      <td>24</td>\n",
       "      <td>301</td>\n",
       "      <td>38.471103</td>\n",
       "      <td>126.159674</td>\n",
       "      <td>124</td>\n",
       "      <td>0.317313</td>\n",
       "    </tr>\n",
       "    <tr>\n",
       "      <th>3</th>\n",
       "      <td>JOB1362684407690</td>\n",
       "      <td>COMP38</td>\n",
       "      <td>MANAGER</td>\n",
       "      <td>DOCTORAL</td>\n",
       "      <td>CHEMISTRY</td>\n",
       "      <td>AUTO</td>\n",
       "      <td>8</td>\n",
       "      <td>17</td>\n",
       "      <td>142</td>\n",
       "      <td>5+</td>\n",
       "      <td>...</td>\n",
       "      <td>36.091590</td>\n",
       "      <td>109.435222</td>\n",
       "      <td>108</td>\n",
       "      <td>0.322708</td>\n",
       "      <td>21</td>\n",
       "      <td>261</td>\n",
       "      <td>34.113430</td>\n",
       "      <td>105.923943</td>\n",
       "      <td>105</td>\n",
       "      <td>0.254626</td>\n",
       "    </tr>\n",
       "    <tr>\n",
       "      <th>4</th>\n",
       "      <td>JOB1362684407691</td>\n",
       "      <td>COMP7</td>\n",
       "      <td>VICE_PRESIDENT</td>\n",
       "      <td>BACHELORS</td>\n",
       "      <td>PHYSICS</td>\n",
       "      <td>FINANCE</td>\n",
       "      <td>8</td>\n",
       "      <td>16</td>\n",
       "      <td>163</td>\n",
       "      <td>5+</td>\n",
       "      <td>...</td>\n",
       "      <td>38.319820</td>\n",
       "      <td>130.747659</td>\n",
       "      <td>128</td>\n",
       "      <td>0.344985</td>\n",
       "      <td>21</td>\n",
       "      <td>261</td>\n",
       "      <td>34.113430</td>\n",
       "      <td>105.923943</td>\n",
       "      <td>105</td>\n",
       "      <td>0.254626</td>\n",
       "    </tr>\n",
       "  </tbody>\n",
       "</table>\n",
       "<p>5 rows × 46 columns</p>\n",
       "</div>"
      ],
      "text/plain": [
       "              jobId companyId         jobType       degree      major  \\\n",
       "0  JOB1362684407687    COMP37             CFO      MASTERS       MATH   \n",
       "1  JOB1362684407688    COMP19             CEO  HIGH_SCHOOL       NONE   \n",
       "2  JOB1362684407689    COMP52  VICE_PRESIDENT     DOCTORAL    PHYSICS   \n",
       "3  JOB1362684407690    COMP38         MANAGER     DOCTORAL  CHEMISTRY   \n",
       "4  JOB1362684407691     COMP7  VICE_PRESIDENT    BACHELORS    PHYSICS   \n",
       "\n",
       "  industry  yearsExperience  milesFromMetropolis  salary yearsExperience_bins  \\\n",
       "0   HEALTH               10                   83     130                  10+   \n",
       "1      WEB                3                   73     101                  3-5   \n",
       "2   HEALTH               10                   38     137                  10+   \n",
       "3     AUTO                8                   17     142                   5+   \n",
       "4  FINANCE                8                   16     163                   5+   \n",
       "\n",
       "   ...  industry_STD  industry_MEAN  industry_MEDIAN  industry_SKEW  \\\n",
       "0  ...     36.865179     115.735540              114       0.321032   \n",
       "1  ...     38.165659     121.645362              119       0.347584   \n",
       "2  ...     36.865179     115.735540              114       0.321032   \n",
       "3  ...     36.091590     109.435222              108       0.322708   \n",
       "4  ...     38.319820     130.747659              128       0.344985   \n",
       "\n",
       "   yearsExperience_bins_MIN  yearsExperience_bins_MAX  \\\n",
       "0                        24                       301   \n",
       "1                        21                       245   \n",
       "2                        24                       301   \n",
       "3                        21                       261   \n",
       "4                        21                       261   \n",
       "\n",
       "   yearsExperience_bins_STD  yearsExperience_bins_MEAN  \\\n",
       "0                 38.471103                 126.159674   \n",
       "1                 33.226156                  99.051617   \n",
       "2                 38.471103                 126.159674   \n",
       "3                 34.113430                 105.923943   \n",
       "4                 34.113430                 105.923943   \n",
       "\n",
       "   yearsExperience_bins_MEDIAN  yearsExperience_bins_SKEW  \n",
       "0                          124                   0.317313  \n",
       "1                           98                   0.254207  \n",
       "2                          124                   0.317313  \n",
       "3                          105                   0.254626  \n",
       "4                          105                   0.254626  \n",
       "\n",
       "[5 rows x 46 columns]"
      ]
     },
     "execution_count": 6,
     "metadata": {},
     "output_type": "execute_result"
    }
   ],
   "source": [
    "train_df = new_features.merge_agg_cols(data.train_df, cat_cols)\n",
    "train_df = new_features.update_dfs(train_df)\n",
    "train_df.head()"
   ]
  },
  {
   "cell_type": "code",
   "execution_count": 7,
   "metadata": {},
   "outputs": [
    {
     "data": {
      "text/html": [
       "<div>\n",
       "<style scoped>\n",
       "    .dataframe tbody tr th:only-of-type {\n",
       "        vertical-align: middle;\n",
       "    }\n",
       "\n",
       "    .dataframe tbody tr th {\n",
       "        vertical-align: top;\n",
       "    }\n",
       "\n",
       "    .dataframe thead th {\n",
       "        text-align: right;\n",
       "    }\n",
       "</style>\n",
       "<table border=\"1\" class=\"dataframe\">\n",
       "  <thead>\n",
       "    <tr style=\"text-align: right;\">\n",
       "      <th></th>\n",
       "      <th>jobId</th>\n",
       "      <th>companyId</th>\n",
       "      <th>jobType</th>\n",
       "      <th>degree</th>\n",
       "      <th>major</th>\n",
       "      <th>industry</th>\n",
       "      <th>yearsExperience</th>\n",
       "      <th>milesFromMetropolis</th>\n",
       "      <th>yearsExperience_bins</th>\n",
       "      <th>(salary, min)</th>\n",
       "      <th>...</th>\n",
       "      <th>industry_STD</th>\n",
       "      <th>industry_MEAN</th>\n",
       "      <th>industry_MEDIAN</th>\n",
       "      <th>industry_SKEW</th>\n",
       "      <th>yearsExperience_bins_MIN</th>\n",
       "      <th>yearsExperience_bins_MAX</th>\n",
       "      <th>yearsExperience_bins_STD</th>\n",
       "      <th>yearsExperience_bins_MEAN</th>\n",
       "      <th>yearsExperience_bins_MEDIAN</th>\n",
       "      <th>yearsExperience_bins_SKEW</th>\n",
       "    </tr>\n",
       "  </thead>\n",
       "  <tbody>\n",
       "    <tr>\n",
       "      <th>0</th>\n",
       "      <td>JOB1362685407687</td>\n",
       "      <td>COMP33</td>\n",
       "      <td>MANAGER</td>\n",
       "      <td>HIGH_SCHOOL</td>\n",
       "      <td>NONE</td>\n",
       "      <td>HEALTH</td>\n",
       "      <td>22</td>\n",
       "      <td>73</td>\n",
       "      <td>10+</td>\n",
       "      <td>49</td>\n",
       "      <td>...</td>\n",
       "      <td>36.865179</td>\n",
       "      <td>115.735540</td>\n",
       "      <td>114</td>\n",
       "      <td>0.321032</td>\n",
       "      <td>24</td>\n",
       "      <td>301</td>\n",
       "      <td>38.471103</td>\n",
       "      <td>126.159674</td>\n",
       "      <td>124</td>\n",
       "      <td>0.317313</td>\n",
       "    </tr>\n",
       "    <tr>\n",
       "      <th>1</th>\n",
       "      <td>JOB1362685407688</td>\n",
       "      <td>COMP13</td>\n",
       "      <td>JUNIOR</td>\n",
       "      <td>NONE</td>\n",
       "      <td>NONE</td>\n",
       "      <td>AUTO</td>\n",
       "      <td>20</td>\n",
       "      <td>47</td>\n",
       "      <td>10+</td>\n",
       "      <td>31</td>\n",
       "      <td>...</td>\n",
       "      <td>36.091590</td>\n",
       "      <td>109.435222</td>\n",
       "      <td>108</td>\n",
       "      <td>0.322708</td>\n",
       "      <td>24</td>\n",
       "      <td>301</td>\n",
       "      <td>38.471103</td>\n",
       "      <td>126.159674</td>\n",
       "      <td>124</td>\n",
       "      <td>0.317313</td>\n",
       "    </tr>\n",
       "    <tr>\n",
       "      <th>2</th>\n",
       "      <td>JOB1362685407689</td>\n",
       "      <td>COMP10</td>\n",
       "      <td>CTO</td>\n",
       "      <td>MASTERS</td>\n",
       "      <td>BIOLOGY</td>\n",
       "      <td>HEALTH</td>\n",
       "      <td>17</td>\n",
       "      <td>9</td>\n",
       "      <td>10+</td>\n",
       "      <td>88</td>\n",
       "      <td>...</td>\n",
       "      <td>36.865179</td>\n",
       "      <td>115.735540</td>\n",
       "      <td>114</td>\n",
       "      <td>0.321032</td>\n",
       "      <td>24</td>\n",
       "      <td>301</td>\n",
       "      <td>38.471103</td>\n",
       "      <td>126.159674</td>\n",
       "      <td>124</td>\n",
       "      <td>0.317313</td>\n",
       "    </tr>\n",
       "    <tr>\n",
       "      <th>3</th>\n",
       "      <td>JOB1362685407690</td>\n",
       "      <td>COMP21</td>\n",
       "      <td>MANAGER</td>\n",
       "      <td>HIGH_SCHOOL</td>\n",
       "      <td>NONE</td>\n",
       "      <td>OIL</td>\n",
       "      <td>14</td>\n",
       "      <td>96</td>\n",
       "      <td>10+</td>\n",
       "      <td>62</td>\n",
       "      <td>...</td>\n",
       "      <td>38.528558</td>\n",
       "      <td>130.953863</td>\n",
       "      <td>128</td>\n",
       "      <td>0.358658</td>\n",
       "      <td>24</td>\n",
       "      <td>301</td>\n",
       "      <td>38.471103</td>\n",
       "      <td>126.159674</td>\n",
       "      <td>124</td>\n",
       "      <td>0.317313</td>\n",
       "    </tr>\n",
       "    <tr>\n",
       "      <th>4</th>\n",
       "      <td>JOB1362685407691</td>\n",
       "      <td>COMP36</td>\n",
       "      <td>JUNIOR</td>\n",
       "      <td>DOCTORAL</td>\n",
       "      <td>BIOLOGY</td>\n",
       "      <td>OIL</td>\n",
       "      <td>10</td>\n",
       "      <td>44</td>\n",
       "      <td>10+</td>\n",
       "      <td>69</td>\n",
       "      <td>...</td>\n",
       "      <td>38.528558</td>\n",
       "      <td>130.953863</td>\n",
       "      <td>128</td>\n",
       "      <td>0.358658</td>\n",
       "      <td>24</td>\n",
       "      <td>301</td>\n",
       "      <td>38.471103</td>\n",
       "      <td>126.159674</td>\n",
       "      <td>124</td>\n",
       "      <td>0.317313</td>\n",
       "    </tr>\n",
       "  </tbody>\n",
       "</table>\n",
       "<p>5 rows × 45 columns</p>\n",
       "</div>"
      ],
      "text/plain": [
       "              jobId companyId  jobType       degree    major industry  \\\n",
       "0  JOB1362685407687    COMP33  MANAGER  HIGH_SCHOOL     NONE   HEALTH   \n",
       "1  JOB1362685407688    COMP13   JUNIOR         NONE     NONE     AUTO   \n",
       "2  JOB1362685407689    COMP10      CTO      MASTERS  BIOLOGY   HEALTH   \n",
       "3  JOB1362685407690    COMP21  MANAGER  HIGH_SCHOOL     NONE      OIL   \n",
       "4  JOB1362685407691    COMP36   JUNIOR     DOCTORAL  BIOLOGY      OIL   \n",
       "\n",
       "   yearsExperience  milesFromMetropolis yearsExperience_bins  (salary, min)  \\\n",
       "0               22                   73                  10+             49   \n",
       "1               20                   47                  10+             31   \n",
       "2               17                    9                  10+             88   \n",
       "3               14                   96                  10+             62   \n",
       "4               10                   44                  10+             69   \n",
       "\n",
       "   ...  industry_STD  industry_MEAN  industry_MEDIAN  industry_SKEW  \\\n",
       "0  ...     36.865179     115.735540              114       0.321032   \n",
       "1  ...     36.091590     109.435222              108       0.322708   \n",
       "2  ...     36.865179     115.735540              114       0.321032   \n",
       "3  ...     38.528558     130.953863              128       0.358658   \n",
       "4  ...     38.528558     130.953863              128       0.358658   \n",
       "\n",
       "   yearsExperience_bins_MIN  yearsExperience_bins_MAX  \\\n",
       "0                        24                       301   \n",
       "1                        24                       301   \n",
       "2                        24                       301   \n",
       "3                        24                       301   \n",
       "4                        24                       301   \n",
       "\n",
       "   yearsExperience_bins_STD  yearsExperience_bins_MEAN  \\\n",
       "0                 38.471103                 126.159674   \n",
       "1                 38.471103                 126.159674   \n",
       "2                 38.471103                 126.159674   \n",
       "3                 38.471103                 126.159674   \n",
       "4                 38.471103                 126.159674   \n",
       "\n",
       "   yearsExperience_bins_MEDIAN  yearsExperience_bins_SKEW  \n",
       "0                          124                   0.317313  \n",
       "1                          124                   0.317313  \n",
       "2                          124                   0.317313  \n",
       "3                          124                   0.317313  \n",
       "4                          124                   0.317313  \n",
       "\n",
       "[5 rows x 45 columns]"
      ]
     },
     "execution_count": 7,
     "metadata": {},
     "output_type": "execute_result"
    }
   ],
   "source": [
    "test_df = new_features.merge_agg_cols(data.test_df, cat_cols)\n",
    "test_df = new_features.update_dfs(test_df)\n",
    "test_df.head()"
   ]
  },
  {
   "cell_type": "code",
   "execution_count": 8,
   "metadata": {},
   "outputs": [],
   "source": [
    "train_df = new_features.get_dummies(train_df)\n",
    "test_df = new_features.get_dummies(test_df)"
   ]
  },
  {
   "cell_type": "markdown",
   "metadata": {},
   "source": [
    "## Creating train/test set for model and prediction"
   ]
  },
  {
   "cell_type": "code",
   "execution_count": 9,
   "metadata": {},
   "outputs": [],
   "source": [
    "target_df = train_df.salary\n",
    "feats = [f for f in train_df.columns if f not in ['salary', 'jobId', 'companyId']]\n",
    "train = train_df[feats]\n",
    "test = test_df[feats]"
   ]
  },
  {
   "cell_type": "code",
   "execution_count": 10,
   "metadata": {},
   "outputs": [
    {
     "data": {
      "text/plain": [
       "259"
      ]
     },
     "execution_count": 10,
     "metadata": {},
     "output_type": "execute_result"
    }
   ],
   "source": [
    "# trigger a manual garbage collection to clean up memory\n",
    "del train_df, test_df\n",
    "gc.collect()"
   ]
  },
  {
   "cell_type": "markdown",
   "metadata": {},
   "source": [
    "## Define a cross validation strategy"
   ]
  },
  {
   "cell_type": "code",
   "execution_count": 11,
   "metadata": {},
   "outputs": [],
   "source": [
    "def cross_validate(model, df, target_df, num_procs=2):\n",
    "    kfolds = KFold(n_splits=5, shuffle=True)\n",
    "    mean_mse = -1.0 * np.mean(cross_val_score(model, df, target_df, cv=kfolds, n_jobs=num_procs,\n",
    "                                             scoring='neg_mean_squared_error'))\n",
    "    return mean_mse  "
   ]
  },
  {
   "cell_type": "markdown",
   "metadata": {},
   "source": [
    "## Base models"
   ]
  },
  {
   "cell_type": "code",
   "execution_count": 12,
   "metadata": {},
   "outputs": [],
   "source": [
    "rfr = RandomForestRegressor(n_estimators=60, n_jobs=num_procs, max_depth=15, min_samples_split=80, \\\n",
    "                            max_features=8, verbose=verbose_lvl)"
   ]
  },
  {
   "cell_type": "code",
   "execution_count": 38,
   "metadata": {},
   "outputs": [],
   "source": [
    "lightgbm = lgb.LGBMRegressor(objective='regression',num_leaves=5,\n",
    "                              learning_rate=0.05, n_estimators=720,\n",
    "                              max_bin = 55, min_data_in_leaf =6)"
   ]
  },
  {
   "cell_type": "code",
   "execution_count": 14,
   "metadata": {},
   "outputs": [],
   "source": [
    "xgboost = XGBRegressor(learning_rate=0.5,n_estimators=460,\n",
    "                                     max_depth=3,\n",
    "                                     gamma=0, subsample=0.7,\n",
    "                                     colsample_bytree=0.7,\n",
    "                                     objective='reg:linear')"
   ]
  },
  {
   "cell_type": "markdown",
   "metadata": {},
   "source": [
    "## Base models scores"
   ]
  },
  {
   "cell_type": "code",
   "execution_count": 40,
   "metadata": {},
   "outputs": [
    {
     "name": "stdout",
     "output_type": "stream",
     "text": [
      "lightgbm: 354.8683\n",
      "\n"
     ]
    }
   ],
   "source": [
    "score = cross_validate(lightgbm, train, target_df)\n",
    "print(\"lightgbm: {:.4f}\\n\".format(score))"
   ]
  },
  {
   "cell_type": "code",
   "execution_count": 16,
   "metadata": {
    "scrolled": false
   },
   "outputs": [
    {
     "name": "stdout",
     "output_type": "stream",
     "text": [
      "xgboost: 356.6496\n",
      "\n"
     ]
    }
   ],
   "source": [
    "score = cross_validate(xgboost, train, target_df)\n",
    "print(\"xgboost: {:.4f}\\n\".format(score))"
   ]
  },
  {
   "cell_type": "code",
   "execution_count": 25,
   "metadata": {},
   "outputs": [
    {
     "name": "stdout",
     "output_type": "stream",
     "text": [
      "random_forest: 372.2179\n",
      "\n"
     ]
    }
   ],
   "source": [
    "score = cross_validate(rfr, train, target_df)\n",
    "print(\"random_forest: {:.4f}\\n\".format(score))"
   ]
  },
  {
   "cell_type": "markdown",
   "metadata": {},
   "source": [
    "## Fit and score test data with best model (lgb_model)"
   ]
  },
  {
   "cell_type": "code",
   "execution_count": 17,
   "metadata": {},
   "outputs": [
    {
     "data": {
      "text/plain": [
       "array([111.65676773,  92.36309047, 179.76026234, ...,  56.49144468,\n",
       "       161.66009947, 111.49867017])"
      ]
     },
     "execution_count": 17,
     "metadata": {},
     "output_type": "execute_result"
    }
   ],
   "source": [
    "lgb_model = lightgbm.fit(train, target_df)\n",
    "lgb_model.predict(test)"
   ]
  },
  {
   "cell_type": "markdown",
   "metadata": {},
   "source": [
    "## Hyperparameters with Random Search"
   ]
  },
  {
   "cell_type": "markdown",
   "metadata": {},
   "source": [
    "For random (or grid search) the domain is called a hyperparameter grid and uses discrete values for the hyperparameters.\n",
    "\n",
    "First, let's look at all of the hyperparamters that need to be tuned."
   ]
  },
  {
   "cell_type": "code",
   "execution_count": 11,
   "metadata": {},
   "outputs": [
    {
     "data": {
      "text/plain": [
       "LGBMRegressor(boosting_type='gbdt', class_weight=None, colsample_bytree=1.0,\n",
       "              importance_type='split', learning_rate=0.1, max_depth=-1,\n",
       "              min_child_samples=20, min_child_weight=0.001, min_split_gain=0.0,\n",
       "              n_estimators=100, n_jobs=-1, num_leaves=31, objective=None,\n",
       "              random_state=None, reg_alpha=0.0, reg_lambda=0.0, silent=True,\n",
       "              subsample=1.0, subsample_for_bin=200000, subsample_freq=0)"
      ]
     },
     "execution_count": 11,
     "metadata": {},
     "output_type": "execute_result"
    }
   ],
   "source": [
    "lgb.LGBMRegressor()"
   ]
  },
  {
   "cell_type": "markdown",
   "metadata": {},
   "source": [
    "Based on the default values, can be constructed the following hyperparameter grid."
   ]
  },
  {
   "cell_type": "code",
   "execution_count": 12,
   "metadata": {},
   "outputs": [],
   "source": [
    "param_grid = {\n",
    "    'class_weight': [None, 'balanced'],\n",
    "    'boosting_type': ['gbdt', 'goss', 'dart'],\n",
    "    'num_leaves': list(range(5, 50)),\n",
    "    'learning_rate': list(np.logspace(np.log(0.005), np.log(0.2), base = np.exp(1), num = 1000)),\n",
    "    'subsample_for_bin': list(range(20000, 300000, 20000)),\n",
    "    'min_child_samples': list(range(20, 500, 5)),\n",
    "    'reg_alpha': list(np.linspace(0, 1)),\n",
    "    'reg_lambda': list(np.linspace(0, 1)),\n",
    "    'colsample_bytree': list(np.linspace(0.6, 1, 10))\n",
    "}"
   ]
  },
  {
   "cell_type": "markdown",
   "metadata": {},
   "source": [
    "How can be sampled a set of hyperparameters from the grid using a dictionary comprehension."
   ]
  },
  {
   "cell_type": "code",
   "execution_count": 13,
   "metadata": {},
   "outputs": [
    {
     "data": {
      "text/plain": [
       "{'class_weight': 'balanced',\n",
       " 'boosting_type': 'gbdt',\n",
       " 'num_leaves': 9,\n",
       " 'learning_rate': 0.02126210003400329,\n",
       " 'subsample_for_bin': 140000,\n",
       " 'min_child_samples': 440,\n",
       " 'reg_alpha': 0.18367346938775508,\n",
       " 'reg_lambda': 0.36734693877551017,\n",
       " 'colsample_bytree': 0.9111111111111111}"
      ]
     },
     "execution_count": 13,
     "metadata": {},
     "output_type": "execute_result"
    }
   ],
   "source": [
    "params = {key: random.sample(value, 1)[0] for key, value in param_grid.items()}\n",
    "params"
   ]
  },
  {
   "cell_type": "markdown",
   "metadata": {},
   "source": [
    "## Cross Validation with Early Stopping in LightGBM\n",
    "The scikit-learn cross validation api does not include the option for early stopping. Therefore, it is possible to use the LightGBM cross validation function with 100 early stopping rounds. To use this function, it needed to be created a dataset from the features and labels."
   ]
  },
  {
   "cell_type": "code",
   "execution_count": 14,
   "metadata": {},
   "outputs": [],
   "source": [
    "train_set = lgb.Dataset(train, label=target_df)"
   ]
  },
  {
   "cell_type": "markdown",
   "metadata": {},
   "source": [
    "The number of boosting rounds is very high, but it will not actually trained this many estimators because it is using early stopping to stop training when the validation score has not improved for 100 estimators."
   ]
  },
  {
   "cell_type": "code",
   "execution_count": 15,
   "metadata": {},
   "outputs": [
    {
     "name": "stdout",
     "output_type": "stream",
     "text": [
      "[50]\tcv_agg's l2: 611.755 + 2.09828\n",
      "[100]\tcv_agg's l2: 426.543 + 1.45515\n",
      "[150]\tcv_agg's l2: 377.265 + 1.08619\n",
      "[200]\tcv_agg's l2: 362.152 + 1.00083\n",
      "[250]\tcv_agg's l2: 357.247 + 1.00672\n",
      "[300]\tcv_agg's l2: 355.581 + 1.02677\n",
      "[350]\tcv_agg's l2: 354.989 + 1.05055\n",
      "[400]\tcv_agg's l2: 354.742 + 1.06201\n",
      "[450]\tcv_agg's l2: 354.615 + 1.0655\n",
      "[500]\tcv_agg's l2: 354.547 + 1.06749\n",
      "[550]\tcv_agg's l2: 354.499 + 1.06894\n",
      "[600]\tcv_agg's l2: 354.46 + 1.07097\n",
      "[650]\tcv_agg's l2: 354.424 + 1.07296\n",
      "[700]\tcv_agg's l2: 354.391 + 1.07467\n",
      "[750]\tcv_agg's l2: 354.368 + 1.08025\n",
      "[800]\tcv_agg's l2: 354.343 + 1.08144\n",
      "[850]\tcv_agg's l2: 354.324 + 1.08012\n",
      "[900]\tcv_agg's l2: 354.307 + 1.07894\n",
      "[950]\tcv_agg's l2: 354.289 + 1.08114\n",
      "[1000]\tcv_agg's l2: 354.274 + 1.08374\n",
      "[1050]\tcv_agg's l2: 354.261 + 1.08508\n",
      "[1100]\tcv_agg's l2: 354.251 + 1.08707\n",
      "[1150]\tcv_agg's l2: 354.24 + 1.08705\n",
      "[1200]\tcv_agg's l2: 354.231 + 1.09\n",
      "[1250]\tcv_agg's l2: 354.221 + 1.08866\n",
      "[1300]\tcv_agg's l2: 354.213 + 1.0895\n",
      "[1350]\tcv_agg's l2: 354.206 + 1.08806\n",
      "[1400]\tcv_agg's l2: 354.201 + 1.08787\n",
      "[1450]\tcv_agg's l2: 354.194 + 1.08828\n",
      "[1500]\tcv_agg's l2: 354.19 + 1.08941\n",
      "[1550]\tcv_agg's l2: 354.187 + 1.08731\n",
      "[1600]\tcv_agg's l2: 354.184 + 1.08998\n",
      "[1650]\tcv_agg's l2: 354.181 + 1.08993\n",
      "[1700]\tcv_agg's l2: 354.179 + 1.08934\n",
      "[1750]\tcv_agg's l2: 354.178 + 1.08995\n",
      "[1800]\tcv_agg's l2: 354.176 + 1.08913\n",
      "[1850]\tcv_agg's l2: 354.175 + 1.08921\n",
      "[1900]\tcv_agg's l2: 354.174 + 1.08891\n",
      "[1950]\tcv_agg's l2: 354.172 + 1.0869\n",
      "[2000]\tcv_agg's l2: 354.171 + 1.08667\n",
      "[2050]\tcv_agg's l2: 354.169 + 1.08719\n",
      "[2100]\tcv_agg's l2: 354.169 + 1.08819\n",
      "[2150]\tcv_agg's l2: 354.17 + 1.08761\n",
      "[2200]\tcv_agg's l2: 354.17 + 1.0879\n"
     ]
    }
   ],
   "source": [
    "cv_results = lgb.cv(params, train_set, num_boost_round = 10000, nfold = 10, metrics = 'mse', \n",
    "           early_stopping_rounds = 100, verbose_eval = 50, seed = 50)"
   ]
  },
  {
   "cell_type": "code",
   "execution_count": 17,
   "metadata": {},
   "outputs": [
    {
     "name": "stdout",
     "output_type": "stream",
     "text": [
      "Optimum boost rounds = 2115\n",
      "Best LGBM CV result = 354.16849782213546\n"
     ]
    }
   ],
   "source": [
    "optimum_boost_rounds = np.argmin(cv_results['l2-mean'])\n",
    "print('Optimum boost rounds = {}'.format(optimum_boost_rounds))\n",
    "print('Best LGBM CV result = {}'.format(np.min(cv_results['l2-mean']))) "
   ]
  }
 ],
 "metadata": {
  "kernelspec": {
   "display_name": "Python 3",
   "language": "python",
   "name": "python3"
  },
  "language_info": {
   "codemirror_mode": {
    "name": "ipython",
    "version": 3
   },
   "file_extension": ".py",
   "mimetype": "text/x-python",
   "name": "python",
   "nbconvert_exporter": "python",
   "pygments_lexer": "ipython3",
   "version": "3.6.7"
  }
 },
 "nbformat": 4,
 "nbformat_minor": 2
}
